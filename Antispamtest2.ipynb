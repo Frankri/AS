{
 "cells": [
  {
   "cell_type": "code",
   "execution_count": 112,
   "metadata": {
    "collapsed": false
   },
   "outputs": [
    {
     "name": "stdout",
     "output_type": "stream",
     "text": [
      "Populating the interactive namespace from numpy and matplotlib\n",
      "Python version 2.7.11 |Anaconda 4.0.0 (x86_64)| (default, Dec  6 2015, 18:57:58) \n",
      "[GCC 4.2.1 (Apple Inc. build 5577)]\n",
      "Pandas version 0.18.0\n"
     ]
    }
   ],
   "source": [
    "%pylab inline\n",
    "%matplotlib inline\n",
    "import seaborn as sns\n",
    "import pandas as pd\n",
    "import numpy as np\n",
    "import matplotlib.pyplot as plt\n",
    "\n",
    "import json\n",
    "import requests\n",
    "import time\n",
    "\n",
    "print 'Python version ' + sys.version\n",
    "print 'Pandas version ' + pd.__version__\n",
    "\n",
    "#project related\n",
    "\n",
    "import subprocess\n",
    "import sys\n",
    "import csv"
   ]
  },
  {
   "cell_type": "code",
   "execution_count": 132,
   "metadata": {
    "collapsed": true
   },
   "outputs": [],
   "source": [
    "process = []"
   ]
  },
  {
   "cell_type": "code",
   "execution_count": 133,
   "metadata": {
    "collapsed": false
   },
   "outputs": [],
   "source": [
    "process = subprocess.Popen(['find','.', '-name', '*.wire'], stdout=subprocess.PIPE)"
   ]
  },
  {
   "cell_type": "code",
   "execution_count": 134,
   "metadata": {
    "collapsed": false
   },
   "outputs": [
    {
     "name": "stdout",
     "output_type": "stream",
     "text": [
      "<class 'subprocess.Popen'>\n"
     ]
    }
   ],
   "source": [
    "print type(process)"
   ]
  },
  {
   "cell_type": "code",
   "execution_count": null,
   "metadata": {
    "collapsed": true
   },
   "outputs": [],
   "source": []
  },
  {
   "cell_type": "code",
   "execution_count": 108,
   "metadata": {
    "collapsed": false
   },
   "outputs": [],
   "source": [
    "wires = process.stdout.read()"
   ]
  },
  {
   "cell_type": "code",
   "execution_count": 129,
   "metadata": {
    "collapsed": false,
    "scrolled": true
   },
   "outputs": [
    {
     "name": "stdout",
     "output_type": "stream",
     "text": [
      "./2016-05-07/01_12/testcopy.joel.mi1.mta.U01c91s46NCfwNa.wire\n",
      "./2016-05-07/01_12/testcopy.joel.mi1.mta.U01c91s46NChwNc.wire\n",
      "./2016-05-07/01_12/testcopy.joel.mi1.mta.U01c91s46NCJwNI.wire\n",
      "./2016-05-07/01_12/testcopy.joel.mi1.mta.U01c91s46NClwNd.wire\n",
      "./2016-05-07/01_12/testcopy.joel.mi1.mta.U01c91s46NClwNe.wire\n",
      "./2016-05-07/01_12/testcopy.joel.mi1.mta.U01c91s46NCMwNK.wire\n",
      "./2016-05-07/01_12/testcopy.joel.mi1.mta.U01c91s46NCowNf.wire\n",
      "./2016-05-07/01_12/testcopy.joel.mi1.mta.U01c91s46NCPwNN.wire\n",
      "./2016-05-07/01_12/testcopy.joel.mi1.mta.U01c91s46NCqwNg.wire\n",
      "./2016-05-07/01_12/testcopy.joel.mi1.mta.U01c91s46NCRwNP.wire\n",
      "./2016-05-07/01_12/testcopy.joel.mi1.mta.U01c91s46NCRwNQ.wire\n",
      "./2016-05-07/01_12/testcopy.joel.mi1.mta.U01c91s46NCswNi.wire\n",
      "./2016-05-07/01_12/testcopy.joel.mi1.mta.U01c91s46NCtwNj.wire\n",
      "./2016-05-07/01_12/testcopy.joel.mi1.mta.U01c91s46NCTwNR.wire\n",
      "./2016-05-07/01_12/testcopy.joel.mi1.mta.U01c91s46NCuwNk.wire\n",
      "./2016-05-07/01_12/testcopy.joel.mi1.mta.U01c91s46NCuwNm.wire\n",
      "./2016-05-07/01_12/testcopy.joel.mi1.mta.U01c91s46NCUwNS.wire\n",
      "./2016-05-07/01_12/testcopy.joel.mi1.mta.U01c91s46NCVwNT.wire\n",
      "./2016-05-07/01_12/testcopy.joel.mi1.mta.U01c91s46NCwwNp.wire\n",
      "./2016-05-07/01_12/testcopy.joel.mi1.mta.U01c91s46NCYwNV.wire\n",
      "./2016-05-07/01_12/testcopy.joel.mi1.mta.U01c91s46NCZwNX.wire\n",
      "./2016-05-07/02_34/testcopy.joel.mi1.mta.U01c91s470Y4wkh.wire\n",
      "./2016-05-07/02_34/testcopy.joel.mi1.mta.U01c91s470YDwki.wire\n",
      "./2016-05-07/02_34/testcopy.joel.mi1.mta.U01c91s470Ydwkq.wire\n",
      "./2016-05-07/02_34/testcopy.joel.mi1.mta.U01c91s470Ykwkr.wire\n",
      "./2016-05-07/02_34/testcopy.joel.mi1.mta.U01c91s470YMwkj.wire\n",
      "./2016-05-07/02_34/testcopy.joel.mi1.mta.U01c91s470YPwkk.wire\n",
      "./2016-05-07/02_34/testcopy.joel.mi1.mta.U01c91s470YRwkm.wire\n",
      "./2016-05-07/02_34/testcopy.joel.mi1.mta.U01c91s470Yrwks.wire\n",
      "./2016-05-07/02_34/testcopy.joel.mi1.mta.U01c91s470YTwko.wire\n",
      "./2016-05-07/02_34/testcopy.joel.mi1.mta.U01c91s470Yvwkt.wire\n",
      "./2016-05-07/02_43/testcopy.joel.mi1.mta.U01c91s470gxwnK.wire\n",
      "./2016-05-07/02_43/testcopy.joel.mi1.mta.U01c91s470h1wnM.wire\n",
      "./2016-05-07/02_43/testcopy.joel.mi1.mta.U01c91s470h2wnN.wire\n",
      "./2016-05-07/02_43/testcopy.joel.mi1.mta.U01c91s470hAwnO.wire\n",
      "./2016-05-07/02_43/testcopy.joel.mi1.mta.U01c91s470hbwnW.wire\n",
      "./2016-05-07/02_43/testcopy.joel.mi1.mta.U01c91s470hGwnP.wire\n",
      "./2016-05-07/02_43/testcopy.joel.mi1.mta.U01c91s470hGwnQ.wire\n",
      "./2016-05-07/02_43/testcopy.joel.mi1.mta.U01c91s470hHwnS.wire\n",
      "./2016-05-07/02_43/testcopy.joel.mi1.mta.U01c91s470hhwnY.wire\n",
      "./2016-05-07/02_43/testcopy.joel.mi1.mta.U01c91s470hJwnT.wire\n",
      "./2016-05-07/02_43/testcopy.joel.mi1.mta.U01c91s470hkwna.wire\n",
      "./2016-05-07/02_43/testcopy.joel.mi1.mta.U01c91s470hrwnb.wire\n",
      "./2016-05-07/02_43/testcopy.joel.mi1.mta.U01c91s470hTwnU.wire\n",
      "./2016-05-07/02_43/testcopy.joel.mi1.mta.U01c91s470huwnd.wire\n",
      "./2016-05-07/02_43/testcopy.joel.mi1.mta.U01c91s470hvwne.wire\n",
      "./2016-05-07/02_43/testcopy.joel.mi1.mta.U01c91s470hXwnV.wire\n",
      "./2016-05-07/07_29/testcopy.joel.mi1.mta.U01c91s475T0y2S.wire\n",
      "./2016-05-07/07_29/testcopy.joel.mi1.mta.U01c91s475T5y2T.wire\n",
      "./2016-05-07/07_29/testcopy.joel.mi1.mta.U01c91s475TEy2U.wire\n",
      "./2016-05-07/07_29/testcopy.joel.mi1.mta.U01c91s475TLy2W.wire\n",
      "./2016-05-07/07_29/testcopy.joel.mi1.mta.U01c91s475TNy2X.wire\n",
      "./2016-05-07/07_29/testcopy.joel.mi1.mta.U01c91s475TOy2Y.wire\n",
      "./2016-05-07/09_31/testcopy.joel.mi1.mta.U01c91s477UwykT.wire\n",
      "./2016-05-07/09_31/testcopy.joel.mi1.mta.U01c91s477V0ykX.wire\n",
      "./2016-05-07/09_31/testcopy.joel.mi1.mta.U01c91s477V1ykY.wire\n",
      "./2016-05-07/09_31/testcopy.joel.mi1.mta.U01c91s477V2ykZ.wire\n",
      "./2016-05-07/09_31/testcopy.joel.mi1.mta.U01c91s477V5ykc.wire\n",
      "./2016-05-07/09_31/testcopy.joel.mi1.mta.U01c91s477V6ykd.wire\n",
      "./2016-05-07/09_31/testcopy.joel.mi1.mta.U01c91s477VAykf.wire\n",
      "./2016-05-07/09_31/testcopy.joel.mi1.mta.U01c91s477VFykh.wire\n",
      "./2016-05-07/09_31/testcopy.joel.mi1.mta.U01c91s477Vfyku.wire\n",
      "./2016-05-07/11_30/testcopy.joel.mi1.mta.U01c91s479TkzaD.wire\n",
      "./2016-05-07/11_30/testcopy.joel.mi1.mta.U01c91s479U3zaL.wire\n",
      "./2016-05-07/11_30/testcopy.joel.mi1.mta.U01c91s479U3zaM.wire\n",
      "./2016-05-07/11_30/testcopy.joel.mi1.mta.U01c91s479U9zaO.wire\n",
      "./2016-05-07/11_30/testcopy.joel.mi1.mta.U01c91s479UAzaP.wire\n",
      "./2016-05-07/11_30/testcopy.joel.mi1.mta.U01c91s479UAzaQ.wire\n",
      "./2016-05-07/11_30/testcopy.joel.mi1.mta.U01c91s479UBzaS.wire\n",
      "./2016-05-07/11_30/testcopy.joel.mi1.mta.U01c91s479Uczak.wire\n",
      "./2016-05-07/11_30/testcopy.joel.mi1.mta.U01c91s479UFzaT.wire\n",
      "./2016-05-07/11_30/testcopy.joel.mi1.mta.U01c91s479UGzaV.wire\n",
      "./2016-05-07/11_30/testcopy.joel.mi1.mta.U01c91s479Uizal.wire\n",
      "./2016-05-07/11_30/testcopy.joel.mi1.mta.U01c91s479UJzaW.wire\n",
      "./2016-05-07/11_30/testcopy.joel.mi1.mta.U01c91s479UJzaX.wire\n",
      "./2016-05-07/11_30/testcopy.joel.mi1.mta.U01c91s479UKzaY.wire\n",
      "./2016-05-07/11_30/testcopy.joel.mi1.mta.U01c91s479Ulzam.wire\n",
      "./2016-05-07/11_30/testcopy.joel.mi1.mta.U01c91s479UMzaZ.wire\n",
      "./2016-05-07/11_30/testcopy.joel.mi1.mta.U01c91s479UPzaa.wire\n",
      "./2016-05-07/11_30/testcopy.joel.mi1.mta.U01c91s479URzab.wire\n",
      "./2016-05-07/11_30/testcopy.joel.mi1.mta.U01c91s479USzac.wire\n",
      "./2016-05-07/11_30/testcopy.joel.mi1.mta.U01c91s479USzad.wire\n",
      "./2016-05-07/11_30/testcopy.joel.mi1.mta.U01c91s479UTzaf.wire\n",
      "./2016-05-07/11_30/testcopy.joel.mi1.mta.U01c91s479UTzag.wire\n",
      "./2016-05-07/11_30/testcopy.joel.mi1.mta.U01c91s479UTzah.wire\n",
      "./2016-05-07/11_30/testcopy.joel.mi1.mta.U01c91s479Uuzao.wire\n",
      "./2016-05-07/11_47/testcopy.joel.mi1.mta.U01c91s479kmzji.wire\n",
      "./2016-05-07/11_47/testcopy.joel.mi1.mta.U01c91s479kozjl.wire\n",
      "./2016-05-07/11_47/testcopy.joel.mi1.mta.U01c91s479l2zjn.wire\n",
      "./2016-05-07/11_47/testcopy.joel.mi1.mta.U01c91s479l5zjo.wire\n",
      "./2016-05-07/11_47/testcopy.joel.mi1.mta.U01c91s479l7zjp.wire\n",
      "./2016-05-07/11_47/testcopy.joel.mi1.mta.U01c91s479l8zjq.wire\n",
      "./2016-05-07/11_47/testcopy.joel.mi1.mta.U01c91s479lazjy.wire\n",
      "./2016-05-07/11_47/testcopy.joel.mi1.mta.U01c91s479lCzjr.wire\n",
      "./2016-05-07/11_47/testcopy.joel.mi1.mta.U01c91s479lJzju.wire\n",
      "./2016-05-07/11_47/testcopy.joel.mi1.mta.U01c91s479lpzjz.wire\n",
      "./2016-05-07/11_47/testcopy.joel.mi1.mta.U01c91s479lwzk0.wire\n",
      "./2016-05-07/11_47/testcopy.joel.mi1.mta.U01c91s479lXzjw.wire\n",
      "./2016-05-07/11_47/testcopy.joel.mi1.mta.U01c91s479lXzjx.wire\n",
      "./2016-05-07/12_16/testcopy.joel.mi1.mta.U01c91s47AG0zuw.wire\n",
      "./2016-05-07/12_16/testcopy.joel.mi1.mta.U01c91s47AG1zux.wire\n",
      "./2016-05-07/12_16/testcopy.joel.mi1.mta.U01c91s47AG2zuy.wire\n",
      "./2016-05-07/12_16/testcopy.joel.mi1.mta.U01c91s47AG9zuz.wire\n",
      "./2016-05-07/12_16/testcopy.joel.mi1.mta.U01c91s47AGczv9.wire\n",
      "./2016-05-07/12_16/testcopy.joel.mi1.mta.U01c91s47AGDzv0.wire\n",
      "./2016-05-07/12_16/testcopy.joel.mi1.mta.U01c91s47AGfzvA.wire\n",
      "./2016-05-07/12_16/testcopy.joel.mi1.mta.U01c91s47AGGzv1.wire\n",
      "./2016-05-07/12_16/testcopy.joel.mi1.mta.U01c91s47AGkzvB.wire\n",
      "./2016-05-07/12_16/testcopy.joel.mi1.mta.U01c91s47AGLzv2.wire\n",
      "./2016-05-07/12_16/testcopy.joel.mi1.mta.U01c91s47AGlzvC.wire\n",
      "./2016-05-07/12_16/testcopy.joel.mi1.mta.U01c91s47AGnzvD.wire\n",
      "./2016-05-07/12_16/testcopy.joel.mi1.mta.U01c91s47AGozvE.wire\n",
      "./2016-05-07/12_16/testcopy.joel.mi1.mta.U01c91s47AGpzvF.wire\n",
      "./2016-05-07/12_16/testcopy.joel.mi1.mta.U01c91s47AGSzv3.wire\n",
      "./2016-05-07/12_16/testcopy.joel.mi1.mta.U01c91s47AGTzv4.wire\n",
      "./2016-05-07/12_16/testcopy.joel.mi1.mta.U01c91s47AGWzv5.wire\n",
      "./2016-05-07/12_16/testcopy.joel.mi1.mta.U01c91s47AGwzvH.wire\n",
      "./2016-05-07/12_16/testcopy.joel.mi1.mta.U01c91s47AGxzvI.wire\n",
      "./2016-05-07/12_16/testcopy.joel.mi1.mta.U01c91s47AGYzv7.wire\n",
      "./2016-05-07/19_13/testcopy.joel.mi1.mta.U01c91s47HD02FT.wire\n",
      "./2016-05-07/19_13/testcopy.joel.mi1.mta.U01c91s47HD12FU.wire\n",
      "./2016-05-07/19_13/testcopy.joel.mi1.mta.U01c91s47HD12FV.wire\n",
      "./2016-05-07/19_13/testcopy.joel.mi1.mta.U01c91s47HD32FW.wire\n",
      "./2016-05-07/19_13/testcopy.joel.mi1.mta.U01c91s47HD42FY.wire\n",
      "./2016-05-07/19_13/testcopy.joel.mi1.mta.U01c91s47HD42FZ.wire\n",
      "./2016-05-07/19_13/testcopy.joel.mi1.mta.U01c91s47HD72Fa.wire\n",
      "./2016-05-07/19_13/testcopy.joel.mi1.mta.U01c91s47HDa2Fm.wire\n",
      "./2016-05-07/19_13/testcopy.joel.mi1.mta.U01c91s47HDd2Fn.wire\n",
      "./2016-05-07/19_13/testcopy.joel.mi1.mta.U01c91s47HDE2Fb.wire\n",
      "./2016-05-07/19_13/testcopy.joel.mi1.mta.U01c91s47HDH2Fc.wire\n",
      "./2016-05-07/19_13/testcopy.joel.mi1.mta.U01c91s47HDI2Fd.wire\n",
      "./2016-05-07/19_13/testcopy.joel.mi1.mta.U01c91s47HDL2Fe.wire\n",
      "./2016-05-07/19_13/testcopy.joel.mi1.mta.U01c91s47HDM2Ff.wire\n",
      "./2016-05-07/19_13/testcopy.joel.mi1.mta.U01c91s47HDm2Fr.wire\n",
      "./2016-05-07/19_13/testcopy.joel.mi1.mta.U01c91s47HDP2Fh.wire\n",
      "./2016-05-07/19_13/testcopy.joel.mi1.mta.U01c91s47HDQ2Fi.wire\n",
      "./2016-05-07/19_13/testcopy.joel.mi1.mta.U01c91s47HDQ2Fj.wire\n",
      "./2016-05-07/19_13/testcopy.joel.mi1.mta.U01c91s47HDr2Ft.wire\n",
      "./2016-05-07/19_13/testcopy.joel.mi1.mta.U01c91s47HDt2Fu.wire\n",
      "./2016-05-07/19_13/testcopy.joel.mi1.mta.U01c91s47HDu2Fv.wire\n",
      "./2016-05-07/19_13/testcopy.joel.mi1.mta.U01c91s47HDX2Fk.wire\n",
      "./2016-05-07/19_13/testcopy.joel.mi1.mta.U01c91s47HDZ2Fl.wire\n",
      "\n"
     ]
    }
   ],
   "source": [
    "print wires"
   ]
  },
  {
   "cell_type": "code",
   "execution_count": 130,
   "metadata": {
    "collapsed": false
   },
   "outputs": [],
   "source": [
    "def read_the_files(file):\n",
    "    fh = open('.'+ str(file))\n",
    "    wire = fh.read()\n",
    "    print wire"
   ]
  },
  {
   "cell_type": "code",
   "execution_count": 131,
   "metadata": {
    "collapsed": false
   },
   "outputs": [
    {
     "ename": "IOError",
     "evalue": "[Errno 2] No such file or directory: '.2.71828182846'",
     "output_type": "error",
     "traceback": [
      "\u001b[0;31m---------------------------------------------------------------------------\u001b[0m",
      "\u001b[0;31mIOError\u001b[0m                                   Traceback (most recent call last)",
      "\u001b[0;32m<ipython-input-131-c07e189cd1f1>\u001b[0m in \u001b[0;36m<module>\u001b[0;34m()\u001b[0m\n\u001b[1;32m      1\u001b[0m \u001b[0;32mfor\u001b[0m \u001b[0mrow\u001b[0m \u001b[0;32min\u001b[0m \u001b[0mwires\u001b[0m\u001b[0;34m:\u001b[0m\u001b[0;34m\u001b[0m\u001b[0m\n\u001b[0;32m----> 2\u001b[0;31m     \u001b[0mread_the_files\u001b[0m\u001b[0;34m(\u001b[0m\u001b[0me\u001b[0m\u001b[0;34m)\u001b[0m\u001b[0;34m\u001b[0m\u001b[0m\n\u001b[0m",
      "\u001b[0;32m<ipython-input-130-ab01aaf6ae3e>\u001b[0m in \u001b[0;36mread_the_files\u001b[0;34m(file)\u001b[0m\n\u001b[1;32m      1\u001b[0m \u001b[0;32mdef\u001b[0m \u001b[0mread_the_files\u001b[0m\u001b[0;34m(\u001b[0m\u001b[0mfile\u001b[0m\u001b[0;34m)\u001b[0m\u001b[0;34m:\u001b[0m\u001b[0;34m\u001b[0m\u001b[0m\n\u001b[0;32m----> 2\u001b[0;31m     \u001b[0mfh\u001b[0m \u001b[0;34m=\u001b[0m \u001b[0mopen\u001b[0m\u001b[0;34m(\u001b[0m\u001b[0;34m'.'\u001b[0m\u001b[0;34m+\u001b[0m \u001b[0mstr\u001b[0m\u001b[0;34m(\u001b[0m\u001b[0mfile\u001b[0m\u001b[0;34m)\u001b[0m\u001b[0;34m)\u001b[0m\u001b[0;34m\u001b[0m\u001b[0m\n\u001b[0m\u001b[1;32m      3\u001b[0m     \u001b[0mwire\u001b[0m \u001b[0;34m=\u001b[0m \u001b[0mfh\u001b[0m\u001b[0;34m.\u001b[0m\u001b[0mread\u001b[0m\u001b[0;34m(\u001b[0m\u001b[0;34m)\u001b[0m\u001b[0;34m\u001b[0m\u001b[0m\n\u001b[1;32m      4\u001b[0m     \u001b[0;32mprint\u001b[0m \u001b[0mwire\u001b[0m\u001b[0;34m\u001b[0m\u001b[0m\n",
      "\u001b[0;31mIOError\u001b[0m: [Errno 2] No such file or directory: '.2.71828182846'"
     ]
    }
   ],
   "source": [
    "for row in wires:\n",
    "    read_the_files(e)"
   ]
  },
  {
   "cell_type": "code",
   "execution_count": 125,
   "metadata": {
    "collapsed": false
   },
   "outputs": [],
   "source": [
    "fh = open('./2016-05-07/01_12/testcopy.joel.mi1.mta.U01c91s46NCfwNa.wire')"
   ]
  },
  {
   "cell_type": "code",
   "execution_count": 50,
   "metadata": {
    "collapsed": false
   },
   "outputs": [],
   "source": [
    "wire = fh.read()"
   ]
  },
  {
   "cell_type": "code",
   "execution_count": 52,
   "metadata": {
    "collapsed": false
   },
   "outputs": [
    {
     "name": "stdout",
     "output_type": "stream",
     "text": [
      "From: \"Leanna Newell\" <info@campinglariva.com>\r\n",
      "To: morris.hoff@renommee.com\r\n",
      "Subject: Re:call me \r\n",
      "Content-Type: text/plain;\r\n",
      "Content-Transfer-Encoding: quoted-printable\r\n",
      "\n",
      "Are you struggling with Federal or Private student loans? This is a Govern=\r\n",
      "ment program that we facilitate directly through the US Department of Educ=\r\n",
      "ation. Call 888-634-9403\r\n",
      "\r\n",
      "Get forgiveness for Federal loans and new options that could save you thou=\r\n",
      "sands.\r\n",
      "\r\n",
      "We can help lower your obligation and pre-qualify you to get Loan Forgiven=\r\n",
      "ess and possible payments as low as 0 (zero) every month. Call 888-634-940=\r\n",
      "3 to find out NOW! Our toll free hotline 888-634-9403 has been ringing wit=\r\n",
      "h people calling to get their loans on the Governments forgiveness program=\r\n",
      ". \r\n",
      "\r\n",
      "We have counselors on standby so don't hesitate to take advantage of this =\r\n",
      "offer and start the new year with lower payments!!\r\n",
      "\r\n",
      "Interest rates have doubled since July 2012 and due to this crisis the Gov=\r\n",
      "ernment has a plan for Federal Student Loans. \r\n",
      "\r\n",
      "We have an A+ rating with the BBB and we are a member of the ASFLR ( Assoc=\r\n",
      "iation for Student Loan Relief). Contact us for a no cost evaluation. Stud=\r\n",
      "ent Borrowers have these options that for immediate assistance. \r\n",
      "\r\n",
      "Act now before the program is no longer available. We have thousands of pe=\r\n",
      "ople calling so find out if you are eligible TODAY!\r\n",
      "\r\n",
      "Sallie mae, Great Lakes, Mohela, AES, ACS, Navient, Parent Plus Loans, All=\r\n",
      " Federal and Private and many more may be eligible. \r\n",
      "\r\n",
      "Do You Have Private Student Loans Also? We Can Help!\r\n",
      "Call 888-634-9403 so you don't miss out!\r\n",
      "\r\n",
      "\r\n",
      "\r\n",
      "\n"
     ]
    }
   ],
   "source": [
    "print wire"
   ]
  },
  {
   "cell_type": "code",
   "execution_count": null,
   "metadata": {
    "collapsed": true
   },
   "outputs": [],
   "source": []
  }
 ],
 "metadata": {
  "kernelspec": {
   "display_name": "Python 2",
   "language": "python",
   "name": "python2"
  },
  "language_info": {
   "codemirror_mode": {
    "name": "ipython",
    "version": 2
   },
   "file_extension": ".py",
   "mimetype": "text/x-python",
   "name": "python",
   "nbconvert_exporter": "python",
   "pygments_lexer": "ipython2",
   "version": "2.7.11"
  }
 },
 "nbformat": 4,
 "nbformat_minor": 0
}
